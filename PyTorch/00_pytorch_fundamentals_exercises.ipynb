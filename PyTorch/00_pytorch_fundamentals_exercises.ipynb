{
  "cells": [
    {
      "attachments": {},
      "cell_type": "markdown",
      "metadata": {},
      "source": [
        "** CUDA EXERCISES 5 AND 6 NON COMPUTED IN THIS NOTEBOOK BECAUSE THERE IS NO GPU ACCESSIBLE FROM THE LOCAL COMPUTER. RUN IN ANOTHER FILE WITH GOOGLE COLLAB"
      ]
    },
    {
      "cell_type": "markdown",
      "metadata": {
        "id": "AzDBM_v4iMe7"
      },
      "source": [
        "# 00. PyTorch Fundamentals Exercises\n",
        "\n",
        "### 1. Documentation reading \n",
        "\n",
        "A big part of deep learning (and learning to code in general) is getting familiar with the documentation of a certain framework you're using. We'll be using the PyTorch documentation a lot throughout the rest of this course. So I'd recommend spending 10-minutes reading the following (it's okay if you don't get some things for now, the focus is not yet full understanding, it's awareness):\n",
        "  * The documentation on [`torch.Tensor`](https://pytorch.org/docs/stable/tensors.html#torch-tensor).\n",
        "  * The documentation on [`torch.cuda`](https://pytorch.org/docs/master/notes/cuda.html#cuda-semantics).\n",
        "\n"
      ]
    },
    {
      "cell_type": "code",
      "execution_count": 1,
      "metadata": {
        "id": "bGD0oD8Kizak"
      },
      "outputs": [],
      "source": [
        "# No code solution (reading)"
      ]
    },
    {
      "cell_type": "markdown",
      "metadata": {
        "id": "__iXqqz-ioUJ"
      },
      "source": [
        "### 2. Create a random tensor with shape `(7, 7)`.\n"
      ]
    },
    {
      "cell_type": "code",
      "execution_count": 1,
      "metadata": {
        "id": "6pUq9Dc8i2L7"
      },
      "outputs": [
        {
          "data": {
            "text/plain": [
              "(tensor([[0.8823, 0.9150, 0.3829, 0.9593, 0.3904, 0.6009, 0.2566],\n",
              "         [0.7936, 0.9408, 0.1332, 0.9346, 0.5936, 0.8694, 0.5677],\n",
              "         [0.7411, 0.4294, 0.8854, 0.5739, 0.2666, 0.6274, 0.2696],\n",
              "         [0.4414, 0.2969, 0.8317, 0.1053, 0.2695, 0.3588, 0.1994],\n",
              "         [0.5472, 0.0062, 0.9516, 0.0753, 0.8860, 0.5832, 0.3376],\n",
              "         [0.8090, 0.5779, 0.9040, 0.5547, 0.3423, 0.6343, 0.3644],\n",
              "         [0.7104, 0.9464, 0.7890, 0.2814, 0.7886, 0.5895, 0.7539]]),\n",
              " torch.Size([7, 7]),\n",
              " 2,\n",
              " torch.float32)"
            ]
          },
          "execution_count": 1,
          "metadata": {},
          "output_type": "execute_result"
        }
      ],
      "source": [
        "# Import torch\n",
        "import torch\n",
        "\n",
        "# Create random tensor\n",
        "RANDOM_SEED=42\n",
        "torch.manual_seed(seed=RANDOM_SEED)\n",
        "tensor = torch.rand(7, 7)\n",
        "tensor, tensor.shape, tensor.ndim, tensor.dtype"
      ]
    },
    {
      "cell_type": "markdown",
      "metadata": {
        "id": "9-XxvRLfiqkR"
      },
      "source": [
        "### 3. Perform a matrix multiplication on the tensor from 2 with another random tensor with shape `(1, 7)` (hint: you may have to transpose the second tensor)."
      ]
    },
    {
      "cell_type": "code",
      "execution_count": 4,
      "metadata": {
        "id": "NcLqR0Sbi_vT"
      },
      "outputs": [
        {
          "name": "stdout",
          "output_type": "stream",
          "text": [
            "The new tensor of (1, 7) dimension is: \n",
            " tensor([[0.3278, 0.6532, 0.3958, 0.9147, 0.2036, 0.2018, 0.2018]])\n"
          ]
        },
        {
          "data": {
            "text/plain": [
              "(tensor([[2.1685],\n",
              "         [2.1932],\n",
              "         [1.6342],\n",
              "         [0.9317],\n",
              "         [0.9952],\n",
              "         [1.7791],\n",
              "         [1.8525]]),\n",
              " torch.Size([7, 1]),\n",
              " 2,\n",
              " torch.float32)"
            ]
          },
          "execution_count": 4,
          "metadata": {},
          "output_type": "execute_result"
        }
      ],
      "source": [
        "# Create another random tensor\n",
        "tensor_2 = torch.rand(1, 7)\n",
        "print(f\"The new tensor of (1, 7) dimension is: \\n {tensor_2}\")\n",
        "# Perform matrix multiplication \n",
        "multiplied = torch.matmul(tensor, tensor_2.T)\n",
        "multiplied, multiplied.shape, multiplied.ndim, multiplied.dtype"
      ]
    },
    {
      "cell_type": "markdown",
      "metadata": {
        "id": "eiutdKUFiryU"
      },
      "source": [
        "### 4. Set the random seed to `0` and do 2 & 3 over again.\n",
        "\n",
        "The output should be:\n",
        "```\n",
        "(tensor([[1.8542],\n",
        "         [1.9611],\n",
        "         [2.2884],\n",
        "         [3.0481],\n",
        "         [1.7067],\n",
        "         [2.5290],\n",
        "         [1.7989]]), torch.Size([7, 1]))\n",
        "```"
      ]
    },
    {
      "cell_type": "code",
      "execution_count": 5,
      "metadata": {
        "id": "D-lOWI_1jRMm"
      },
      "outputs": [
        {
          "data": {
            "text/plain": [
              "(tensor([[1.8542],\n",
              "         [1.9611],\n",
              "         [2.2884],\n",
              "         [3.0481],\n",
              "         [1.7067],\n",
              "         [2.5290],\n",
              "         [1.7989]]),\n",
              " torch.Size([7, 1]),\n",
              " 2,\n",
              " torch.float32)"
            ]
          },
          "execution_count": 5,
          "metadata": {},
          "output_type": "execute_result"
        }
      ],
      "source": [
        "# Set manual seed\n",
        "torch.manual_seed(seed=0)\n",
        "# Create two random tensors\n",
        "rand_1=torch.rand(7, 7)\n",
        "rand_2=torch.rand(1, 7)\n",
        "# Matrix multiply tensors\n",
        "mult=torch.matmul(rand_1, rand_2.T)\n",
        "mult, mult.shape, mult.ndim, mult.dtype"
      ]
    },
    {
      "cell_type": "markdown",
      "metadata": {
        "id": "ezY6ks9Cis37"
      },
      "source": [
        "### 5. Speaking of random seeds, we saw how to set it with `torch.manual_seed()` but is there a GPU equivalent? (hint: you'll need to look into the documentation for `torch.cuda` for this one)\n",
        "  * If there is, set the GPU random seed to `1234`."
      ]
    },
    {
      "cell_type": "code",
      "execution_count": 5,
      "metadata": {
        "id": "_LKWcfSTjp00"
      },
      "outputs": [],
      "source": [
        "# Set random seed on the GPU\n"
      ]
    },
    {
      "cell_type": "markdown",
      "metadata": {
        "id": "Ir9qSaj6it4n"
      },
      "source": [
        "\n",
        "### 6. Create two random tensors of shape `(2, 3)` and send them both to the GPU (you'll need access to a GPU for this). Set `torch.manual_seed(1234)` when creating the tensors (this doesn't have to be the GPU random seed). The output should be something like:\n",
        "\n",
        "```\n",
        "Device: cuda\n",
        "(tensor([[0.0290, 0.4019, 0.2598],\n",
        "         [0.3666, 0.0583, 0.7006]], device='cuda:0'),\n",
        " tensor([[0.0518, 0.4681, 0.6738],\n",
        "         [0.3315, 0.7837, 0.5631]], device='cuda:0'))\n",
        "```"
      ]
    },
    {
      "cell_type": "code",
      "execution_count": 6,
      "metadata": {
        "id": "azXExiFZj5nm"
      },
      "outputs": [],
      "source": [
        "# Set random seed\n",
        "\n",
        "\n",
        "# Check for access to GPU\n",
        "\n",
        "# Create two random tensors on GPU\n"
      ]
    },
    {
      "cell_type": "code",
      "execution_count": 8,
      "metadata": {},
      "outputs": [
        {
          "data": {
            "text/plain": [
              "(tensor([[0.0290, 0.4019, 0.2598],\n",
              "         [0.3666, 0.0583, 0.7006]]),\n",
              " tensor([[0.0518, 0.4681, 0.6738],\n",
              "         [0.3315, 0.7837, 0.5631]]),\n",
              " torch.Size([2, 3]),\n",
              " torch.Size([2, 3]))"
            ]
          },
          "execution_count": 8,
          "metadata": {},
          "output_type": "execute_result"
        }
      ],
      "source": [
        "tensor_A=torch.tensor([[0.0290, 0.4019, 0.2598],\n",
        "                    [0.3666, 0.0583, 0.7006]])\n",
        "tensor_B=torch.tensor([[0.0518, 0.4681, 0.6738],\n",
        "                    [0.3315, 0.7837, 0.5631]])\n",
        "tensor_A, tensor_B, tensor_A.shape, tensor_B.shape"
      ]
    },
    {
      "cell_type": "markdown",
      "metadata": {
        "id": "5TlAxeiSiu1y"
      },
      "source": [
        "\n",
        "### 7. Perform a matrix multiplication on the tensors you created in 6 (again, you may have to adjust the shapes of one of the tensors).\n",
        "\n",
        "The output should look like:\n",
        "```\n",
        "(tensor([[0.3647, 0.4709],\n",
        "         [0.5184, 0.5617]], device='cuda:0'), torch.Size([2, 2]))\n",
        "```"
      ]
    },
    {
      "cell_type": "code",
      "execution_count": 9,
      "metadata": {
        "id": "fAeG7ox0lHEO"
      },
      "outputs": [
        {
          "data": {
            "text/plain": [
              "(tensor([[0.3647, 0.4709],\n",
              "         [0.5183, 0.5617]]),\n",
              " torch.Size([2, 2]),\n",
              " 2,\n",
              " torch.float32)"
            ]
          },
          "execution_count": 9,
          "metadata": {},
          "output_type": "execute_result"
        }
      ],
      "source": [
        "# Perform matmul on tensor_A and tensor_B\n",
        "result=torch.matmul(tensor_A, tensor_B.T)\n",
        "result, result.shape, result.ndim, result.dtype"
      ]
    },
    {
      "cell_type": "markdown",
      "metadata": {
        "id": "G7qfa5CSivwg"
      },
      "source": [
        "### 8. Find the maximum and minimum values of the output of 7."
      ]
    },
    {
      "cell_type": "code",
      "execution_count": 10,
      "metadata": {
        "id": "Fu8_3mZpllOd"
      },
      "outputs": [
        {
          "data": {
            "text/plain": [
              "(tensor(0.5617), tensor(0.3647), tensor(0.5617), tensor(0.3647))"
            ]
          },
          "execution_count": 10,
          "metadata": {},
          "output_type": "execute_result"
        }
      ],
      "source": [
        "# Find max\n",
        "max=torch.max(result)\n",
        "# Find min\n",
        "min=torch.min(result)\n",
        "\n",
        "max, min, result.max(), result.min()"
      ]
    },
    {
      "cell_type": "markdown",
      "metadata": {
        "id": "wrTj5FgNiw47"
      },
      "source": [
        "### 9. Find the maximum and minimum index values of the output of 7."
      ]
    },
    {
      "cell_type": "code",
      "execution_count": 12,
      "metadata": {
        "id": "CCEKt4K2lsfQ"
      },
      "outputs": [
        {
          "data": {
            "text/plain": [
              "(tensor(3), tensor(0), tensor(3), tensor(0))"
            ]
          },
          "execution_count": 12,
          "metadata": {},
          "output_type": "execute_result"
        }
      ],
      "source": [
        "# Find arg max\n",
        "arg_max=torch.argmax(result)\n",
        "\n",
        "# Find arg min\n",
        "arg_min=torch.argmin(result)\n",
        "\n",
        "arg_max, arg_min, result.argmax(), result.argmin()"
      ]
    },
    {
      "cell_type": "markdown",
      "metadata": {
        "id": "hmeybz4uixy7"
      },
      "source": [
        "\n",
        "### 10. Make a random tensor with shape `(1, 1, 1, 10)` and then create a new tensor with all the `1` dimensions removed to be left with a tensor of shape `(10)`. Set the seed to `7` when you create it and print out the first tensor and it's shape as well as the second tensor and it's shape.\n",
        "\n",
        "The output should look like:\n",
        "\n",
        "```\n",
        "tensor([[[[0.5349, 0.1988, 0.6592, 0.6569, 0.2328, 0.4251, 0.2071, 0.6297,\n",
        "           0.3653, 0.8513]]]]) torch.Size([1, 1, 1, 10])\n",
        "tensor([0.5349, 0.1988, 0.6592, 0.6569, 0.2328, 0.4251, 0.2071, 0.6297, 0.3653,\n",
        "        0.8513]) torch.Size([10])\n",
        "```"
      ]
    },
    {
      "cell_type": "code",
      "execution_count": 13,
      "metadata": {
        "id": "TQ9zbRzVl1jV"
      },
      "outputs": [
        {
          "name": "stdout",
          "output_type": "stream",
          "text": [
            "The tensor created is tensor([[[[0.5349, 0.1988, 0.6592, 0.6569, 0.2328, 0.4251, 0.2071, 0.6297,\n",
            "           0.3653, 0.8513]]]]) with dimension torch.Size([1, 1, 1, 10])\n",
            "The tensor created is tensor([0.5349, 0.1988, 0.6592, 0.6569, 0.2328, 0.4251, 0.2071, 0.6297, 0.3653,\n",
            "        0.8513]) with dimension torch.Size([10])\n"
          ]
        }
      ],
      "source": [
        "# Set seed\n",
        "torch.manual_seed(seed=7)\n",
        "\n",
        "# Create random tensor\n",
        "rand_tensor=torch.rand(1, 1, 1, 10)\n",
        "# Remove single dimensions\n",
        "reshaped_tensor=torch.squeeze(rand_tensor)\n",
        "\n",
        "# Print out tensors and their shapes\n",
        "print(f\"The tensor created is {rand_tensor} with dimension {rand_tensor.shape}\")\n",
        "print(f\"The tensor created is {reshaped_tensor} with dimension {reshaped_tensor.shape}\")"
      ]
    }
  ],
  "metadata": {
    "accelerator": "GPU",
    "colab": {
      "collapsed_sections": [],
      "name": "00_pytorch_fundamentals_exercises.ipynb",
      "provenance": []
    },
    "kernelspec": {
      "display_name": "Python 3",
      "name": "python3"
    },
    "language_info": {
      "codemirror_mode": {
        "name": "ipython",
        "version": 3
      },
      "file_extension": ".py",
      "mimetype": "text/x-python",
      "name": "python",
      "nbconvert_exporter": "python",
      "pygments_lexer": "ipython3",
      "version": "3.8.16"
    }
  },
  "nbformat": 4,
  "nbformat_minor": 0
}
